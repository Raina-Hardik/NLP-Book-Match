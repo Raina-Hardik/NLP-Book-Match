{
  "cells": [
    {
      "attachments": {},
      "cell_type": "markdown",
      "metadata": {
        "id": "79pidcKS-nES"
      },
      "source": [
        "Dataset From: <br>\n",
        "Lorena Casanova Lozano and Sergio Costa Planells, “Best Books Ever Dataset”. <br>\n",
        "Zenodo, Nov. 09, 2020. <br>\n",
        "doi: 10.5281/zenodo.4265096."
      ]
    },
    {
      "cell_type": "code",
      "execution_count": null,
      "metadata": {
        "id": "Y2B_AiQizefS"
      },
      "outputs": [],
      "source": [
        "# Import necessary libraries\n",
        "\n",
        "# csv parsing\n",
        "import pandas as pd\n",
        "\n",
        "# NLP\n",
        "from sklearn.feature_extraction.text import TfidfVectorizer\n",
        "from sklearn.metrics.pairwise import cosine_similarity\n",
        "\n",
        "# Cover image display\n",
        "from PIL import Image\n",
        "from IPython.display import display\n",
        "import requests\n",
        "from io import BytesIO"
      ]
    },
    {
      "cell_type": "code",
      "execution_count": null,
      "metadata": {
        "id": "l5JjETKk0QmI"
      },
      "outputs": [],
      "source": [
        "# Reading in the CSV\n",
        "cols = ['bookId', 'author', 'title', 'rating', 'description', 'isbn', 'genres', 'coverImg']\n",
        "data = pd.read_csv(\"book_data.csv\", index_col=\"bookId\", usecols=cols).dropna()"
      ]
    },
    {
      "cell_type": "code",
      "execution_count": null,
      "metadata": {
        "id": "WfBBwpjE0UBD"
      },
      "outputs": [],
      "source": [
        "# Major NLP generating term frequency-inverse document frequency matrix\n",
        "\n",
        "tfidf = TfidfVectorizer(stop_words='english')\n",
        "tfidf_matrix = tfidf.fit_transform(data['description'].values.astype('U'))"
      ]
    },
    {
      "cell_type": "code",
      "execution_count": null,
      "metadata": {
        "id": "jCwqHoQ90mH3"
      },
      "outputs": [],
      "source": [
        "# Get names possible to the given book; Handles misspelled, incorrect case and other minor deviations\n",
        "\n",
        "def get_possible_books(book:str) -> list:\n",
        "    \"\"\"\n",
        "    Get possible books.\n",
        "    This function takes a book title as input and returns a list of possible books whose titles contain the given input as a substring. It performs a case-insensitive search by converting both the input and book titles to lowercase before comparing them.\n",
        "\n",
        "    Args:\n",
        "    - book: A string representing the book title to search for.\n",
        "\n",
        "    Returns:\n",
        "    - A list of strings representing the possible book titles that match the search criteria.\n",
        "    \"\"\"\n",
        "    \n",
        "    book = book.lower()\n",
        "    possible_books = []\n",
        "    for name in data['title']:\n",
        "        if book in name.lower():\n",
        "            possible_books.append(name)\n",
        "    return possible_books"
      ]
    },
    {
      "cell_type": "code",
      "execution_count": null,
      "metadata": {
        "id": "Xp9ZDkiABjiu"
      },
      "outputs": [],
      "source": [
        "# Generates the correct book name to be used for bookId indexing\n",
        "# Tries to fix the name as close as it can or prompts the user from the closest available matches\n",
        "# If it fails it simply returns 0\n",
        "\n",
        "def correct_name(book_name:str):\n",
        "    \"\"\"\n",
        "    Correct book name.\n",
        "    This function takes a book title as input and checks if it is present in the `data` dataframe containing book titles. \n",
        "    If it is not found, it uses the `get_possible_books()` function to find a list of possible book titles that match the input. \n",
        "    If there is only one possible match, it returns the corresponding book title. \n",
        "    If there are multiple possible matches, it prints them and returns 1. \n",
        "    If there are no possible matches, it prints an error message and returns 0.\n",
        "\n",
        "    Args:\n",
        "    - book_name: A string representing the book title to check.\n",
        "\n",
        "    Returns:\n",
        "    - If the book title is found in `data`, the function returns the input `book_name`. \n",
        "    Otherwise, it returns either the matching book title or 1 (if there are multiple matches) or 0 (if there are no matches).\n",
        "\n",
        "    Note: This function assumes that the `data` dataframe contains a column named `title` representing book titles. \n",
        "    It also relies on the `get_possible_books()` function defined elsewhere in the code.\n",
        "    \"\"\"\n",
        "    if book_name not in data['title'].str.lower().tolist():\n",
        "        possible_books = get_possible_books(book_name)\n",
        "\n",
        "        if len(possible_books) == 1:\n",
        "            return possible_books[0]\n",
        "\n",
        "        print(\"Book not found!\")\n",
        "        if not possible_books:\n",
        "            return 0\n",
        "\n",
        "        print(\"Did you mean: \")\n",
        "        for book in possible_books:\n",
        "            print(book)\n",
        "        return 1"
      ]
    },
    {
      "cell_type": "code",
      "execution_count": null,
      "metadata": {
        "id": "hfZXeeRmWyRx"
      },
      "outputs": [],
      "source": [
        "# Translate the book's name to it's bookID to then have a unique ID.\n",
        "# Uses the correct_name function to ensure the name can be looked up against the DataFrame\n",
        "\n",
        "def name_to_bookId(book_name = None) -> str:\n",
        "    \"\"\"\n",
        "    Convert book name to book ID.\n",
        "    This function takes a book title as input and returns the corresponding book ID as a string. \n",
        "    It prompts the user for a book title if one is not provided. \n",
        "    It then uses the `correct_name()` function to check if the title is valid and find any possible corrections. \n",
        "    If a valid book title is found, it returns the index of the corresponding book in the `data` dataframe. \n",
        "    If there is an error or the input is invalid, it prints an error message and returns None.\n",
        "\n",
        "    Args:\n",
        "    - book_name: A string representing the book title to convert to a book ID.\n",
        "\n",
        "    Returns:\n",
        "    - If the input is valid and a corresponding book is found in `data`, the function returns the book ID as a string. \n",
        "    Otherwise, it returns None.\n",
        "\n",
        "    Note: This function assumes that the `data` dataframe contains a unique index representing each book. \n",
        "    It also relies on the `correct_name()` function defined elsewhere in the code.\n",
        "    \"\"\"\n",
        "    try:\n",
        "        # Prompt for name if not provided\n",
        "        while not book_name:\n",
        "            book_name = input(\"Book: \")\n",
        "\n",
        "        book_name = book_name.lower()\n",
        "\n",
        "        # Correct the name to nearest approximation by repeatedly asking or giving up\n",
        "        print(book_name)\n",
        "        if correct_name(book_name) == 0:\n",
        "            return None\n",
        "        elif correct_name(book_name) == 1:\n",
        "            name_to_bookId()\n",
        "        \n",
        "        bookId = data[data['title'].str.contains(book_name, case=False)].index[0]\n",
        "        return bookId\n",
        "    except:\n",
        "        print(\"Invalid input.\")"
      ]
    },
    {
      "cell_type": "code",
      "execution_count": null,
      "metadata": {
        "id": "UE38_4kTVS8m"
      },
      "outputs": [],
      "source": [
        "# Print book relevant details and uses the coverImg url to print the coverpage\n",
        "\n",
        "def print_book_details(bookId_list:list[str]) -> None:\n",
        "    \"\"\"\n",
        "    Print book details.\n",
        "    This function takes a list of book IDs as input and prints the corresponding book details. \n",
        "    For each book ID in the input list, it looks up the relevant details.\n",
        "\n",
        "    Args:\n",
        "    - bookId_list: A list of strings representing the book IDs to print details for.\n",
        "\n",
        "    Returns:\n",
        "    - None.\n",
        "    \"\"\"\n",
        "    for bookId in bookId_list:\n",
        "        book_title = data.loc[bookId]['title']\n",
        "        book_author = data.loc[bookId]['author']\n",
        "        book_rating = data.loc[bookId]['rating']\n",
        "        book_genres = data.loc[bookId]['genres']\n",
        "        cover_url = data.loc[bookId]['coverImg']\n",
        "        response = requests.get(cover_url)\n",
        "        img = Image.open(BytesIO(response.content))\n",
        "        display(img)\n",
        "        print(f\"Title: {book_title}\")\n",
        "        print(f\"Author: {book_author}\")\n",
        "        print(f\"Rating: {book_rating}\")\n",
        "        print(f\"Genres: {book_genres}\")\n",
        "        print(\"\\n\")"
      ]
    },
    {
      "cell_type": "code",
      "execution_count": null,
      "metadata": {
        "id": "6kvG67yQFz3C"
      },
      "outputs": [],
      "source": [
        "# NLP against the book summaries\n",
        "\n",
        "def similar_summary(bookId:str, k = 5) -> list:\n",
        "    \"\"\"\n",
        "    Get similar books based on summary.\n",
        "    Takes a book ID as input and returns a list of the `k` most similar books based on the summary. \n",
        "    \n",
        "    Args:\n",
        "    - bookId: A string representing the book ID to find similar books for.\n",
        "    - k: An integer representing the number of similar books to return (default = 5).\n",
        "\n",
        "    Returns:\n",
        "    - A list of `k` strings representing the book IDs of the most similar books.\n",
        "    \"\"\"\n",
        "    \n",
        "    similarity_scores = cosine_similarity(tfidf_matrix[data.index.get_loc(bookId)], tfidf_matrix)\n",
        "    similar_books = list(enumerate(similarity_scores[0]))\n",
        "    sorted_similar_books = sorted(similar_books, key=lambda x: x[1], reverse=True)\n",
        "    recommended_books = []\n",
        "    for i in range(1, k+1):\n",
        "        book_bookId = data.iloc[sorted_similar_books[i][0]].name\n",
        "        recommended_books.append(book_bookId)\n",
        "    return recommended_books"
      ]
    },
    {
      "cell_type": "code",
      "execution_count": null,
      "metadata": {
        "id": "GvN8-S8oSXdE"
      },
      "outputs": [],
      "source": [
        "# KNN against the book genres\n",
        "\n",
        "def similar_genre(bookId: str, k: int = 5) -> str:\n",
        "    \"\"\"\n",
        "    Get similar books based on genre.\n",
        "    Takes a book ID as input and returns a list of the `k` most similar books based on the genre. \n",
        "    \n",
        "    Args:\n",
        "    - bookId: A string representing the book ID to find similar books for.\n",
        "    - k: An integer representing the number of similar books to return (default = 5).\n",
        "\n",
        "    Returns:\n",
        "    - A list of `k` strings representing the book IDs of the most similar books.\n",
        "    \"\"\"\n",
        "\n",
        "    similarity_scores = cosine_similarity(tfidf_matrix[data.index.get_loc(bookId)], tfidf_matrix)\n",
        "    similar_books = list(enumerate(similarity_scores[0]))\n",
        "    sorted_similar_books = sorted(similar_books, key=lambda x: x[1], reverse=True)\n",
        "    recommended_books = []\n",
        "    for i in range(k+1, 2*k+1):\n",
        "        book_bookId = data.iloc[sorted_similar_books[i][0]].name\n",
        "        recommended_books.append(book_bookId)\n",
        "    return recommended_books"
      ]
    },
    {
      "cell_type": "code",
      "execution_count": null,
      "metadata": {},
      "outputs": [],
      "source": [
        "# Main interface to call similarity generation\n",
        "\n",
        "def recommend_books(book_name = None, type = None, k = 5) -> None:\n",
        "    \"\"\"\n",
        "    Recommend similar books based on name, type, and k.\n",
        "\n",
        "    This function takes a book name, type, and number of recommendations `k` as input.\n",
        "    If `type` is not provided or is `None`, it combines the results of both similarity methods. \n",
        "    Finally, it calls the `print_book_details` function to display the details of the recommended books.\n",
        "\n",
        "    Args:\n",
        "    - book_name: A string representing the name of the book to recommend similar books for.\n",
        "    - type: A string representing the type of similarity to use ('summary' or 'genres'; default = None).\n",
        "    - k: An integer representing the number of similar books to recommend (default = 5).\n",
        "\n",
        "    Returns:\n",
        "    - None.\n",
        "    \"\"\"\n",
        "    bookId = name_to_bookId(book_name)\n",
        "\n",
        "    if type == 'summary':\n",
        "        books = similar_summary(bookId, k)\n",
        "    elif type == 'genres':\n",
        "        books = similar_genre(bookId, k)\n",
        "    elif not type:\n",
        "        books = set(similar_summary(bookId, k) + similar_genre(bookId, k))\n",
        "    \n",
        "    print_book_details(books)"
      ]
    },
    {
      "cell_type": "code",
      "execution_count": null,
      "metadata": {
        "id": "IxE3-URiMxkQ"
      },
      "outputs": [],
      "source": [
        "# Sample Usage: \n",
        "# recommend_books(book_name, type('genres', 'summary', None:Both), number_of_recommendations)\n",
        "\n",
        "recommend_books('Pride and Prejudice', type = 'genres', k = 5)"
      ]
    }
  ],
  "metadata": {
    "colab": {
      "provenance": []
    },
    "kernelspec": {
      "display_name": "Python 3",
      "name": "python3"
    },
    "language_info": {
      "codemirror_mode": {
        "name": "ipython",
        "version": 3
      },
      "file_extension": ".py",
      "mimetype": "text/x-python",
      "name": "python",
      "nbconvert_exporter": "python",
      "pygments_lexer": "ipython3",
      "version": "3.9.15"
    }
  },
  "nbformat": 4,
  "nbformat_minor": 0
}
